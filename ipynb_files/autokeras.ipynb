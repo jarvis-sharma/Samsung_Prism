{
  "nbformat": 4,
  "nbformat_minor": 0,
  "metadata": {
    "colab": {
      "name": "autokeras.ipynb",
      "provenance": [],
      "collapsed_sections": []
    },
    "kernelspec": {
      "name": "python3",
      "display_name": "Python 3"
    },
    "language_info": {
      "name": "python"
    },
    "accelerator": "GPU"
  },
  "cells": [
    {
      "cell_type": "code",
      "metadata": {
        "colab": {
          "base_uri": "https://localhost:8080/"
        },
        "id": "A2FJOwx5BzFc",
        "outputId": "bbfab2af-457c-486d-928d-621724034539"
      },
      "source": [
        "!pip install git+https://github.com/keras-team/keras-tuner.git@1.0.2rc1"
      ],
      "execution_count": null,
      "outputs": [
        {
          "output_type": "stream",
          "name": "stdout",
          "text": [
            "Collecting git+https://github.com/keras-team/keras-tuner.git@1.0.2rc1\n",
            "  Cloning https://github.com/keras-team/keras-tuner.git (to revision 1.0.2rc1) to /tmp/pip-req-build-jgnswkye\n",
            "  Running command git clone -q https://github.com/keras-team/keras-tuner.git /tmp/pip-req-build-jgnswkye\n",
            "  Running command git checkout -q 0fb69434a132093518e0e53d40020145ae192629\n",
            "Requirement already satisfied: packaging in /usr/local/lib/python3.7/dist-packages (from keras-tuner==1.0.2rc1) (21.0)\n",
            "Requirement already satisfied: future in /usr/local/lib/python3.7/dist-packages (from keras-tuner==1.0.2rc1) (0.16.0)\n",
            "Requirement already satisfied: numpy in /usr/local/lib/python3.7/dist-packages (from keras-tuner==1.0.2rc1) (1.19.5)\n",
            "Requirement already satisfied: tabulate in /usr/local/lib/python3.7/dist-packages (from keras-tuner==1.0.2rc1) (0.8.9)\n",
            "Collecting terminaltables\n",
            "  Downloading terminaltables-3.1.0.tar.gz (12 kB)\n",
            "Collecting colorama\n",
            "  Downloading colorama-0.4.4-py2.py3-none-any.whl (16 kB)\n",
            "Requirement already satisfied: tqdm in /usr/local/lib/python3.7/dist-packages (from keras-tuner==1.0.2rc1) (4.62.3)\n",
            "Requirement already satisfied: requests in /usr/local/lib/python3.7/dist-packages (from keras-tuner==1.0.2rc1) (2.23.0)\n",
            "Requirement already satisfied: scipy in /usr/local/lib/python3.7/dist-packages (from keras-tuner==1.0.2rc1) (1.4.1)\n",
            "Requirement already satisfied: scikit-learn in /usr/local/lib/python3.7/dist-packages (from keras-tuner==1.0.2rc1) (0.22.2.post1)\n",
            "Requirement already satisfied: pyparsing>=2.0.2 in /usr/local/lib/python3.7/dist-packages (from packaging->keras-tuner==1.0.2rc1) (2.4.7)\n",
            "Requirement already satisfied: chardet<4,>=3.0.2 in /usr/local/lib/python3.7/dist-packages (from requests->keras-tuner==1.0.2rc1) (3.0.4)\n",
            "Requirement already satisfied: urllib3!=1.25.0,!=1.25.1,<1.26,>=1.21.1 in /usr/local/lib/python3.7/dist-packages (from requests->keras-tuner==1.0.2rc1) (1.24.3)\n",
            "Requirement already satisfied: idna<3,>=2.5 in /usr/local/lib/python3.7/dist-packages (from requests->keras-tuner==1.0.2rc1) (2.10)\n",
            "Requirement already satisfied: certifi>=2017.4.17 in /usr/local/lib/python3.7/dist-packages (from requests->keras-tuner==1.0.2rc1) (2021.5.30)\n",
            "Requirement already satisfied: joblib>=0.11 in /usr/local/lib/python3.7/dist-packages (from scikit-learn->keras-tuner==1.0.2rc1) (1.0.1)\n",
            "Building wheels for collected packages: keras-tuner, terminaltables\n",
            "  Building wheel for keras-tuner (setup.py) ... \u001b[?25l\u001b[?25hdone\n",
            "  Created wheel for keras-tuner: filename=keras_tuner-1.0.2rc1-py3-none-any.whl size=85445 sha256=06b197e1f0743629f06b744fc58c685725ddf2ded8f0bb23c708bf4c360c2f93\n",
            "  Stored in directory: /tmp/pip-ephem-wheel-cache-gkkkelmc/wheels/44/e5/92/e83049ca00432aec622a4fa0200e254d88aefae9d74aa86941\n",
            "  Building wheel for terminaltables (setup.py) ... \u001b[?25l\u001b[?25hdone\n",
            "  Created wheel for terminaltables: filename=terminaltables-3.1.0-py3-none-any.whl size=15354 sha256=e5b82b19db04c7b8021fe1caaf1bf31da1d8851cb3511f878a2f726d19896eca\n",
            "  Stored in directory: /root/.cache/pip/wheels/ba/ad/c8/2d98360791161cd3db6daf6b5e730f34021fc9367d5879f497\n",
            "Successfully built keras-tuner terminaltables\n",
            "Installing collected packages: terminaltables, colorama, keras-tuner\n",
            "Successfully installed colorama-0.4.4 keras-tuner-1.0.2rc1 terminaltables-3.1.0\n"
          ]
        }
      ]
    },
    {
      "cell_type": "code",
      "metadata": {
        "colab": {
          "base_uri": "https://localhost:8080/",
          "height": 1000
        },
        "id": "3iT7gWhRB3p6",
        "outputId": "aebbd529-4648-4243-937f-352d9f87de3a"
      },
      "source": [
        "!pip install autokeras"
      ],
      "execution_count": null,
      "outputs": [
        {
          "output_type": "stream",
          "name": "stdout",
          "text": [
            "Collecting autokeras\n",
            "  Downloading autokeras-1.0.16-py3-none-any.whl (166 kB)\n",
            "\u001b[K     |████████████████████████████████| 166 kB 6.5 MB/s \n",
            "\u001b[?25hCollecting tensorflow<=2.5.0,>=2.3.0\n",
            "  Downloading tensorflow-2.5.0-cp37-cp37m-manylinux2010_x86_64.whl (454.3 MB)\n",
            "\u001b[K     |████████████████████████████████| 454.3 MB 17 kB/s \n",
            "\u001b[?25hRequirement already satisfied: scikit-learn in /usr/local/lib/python3.7/dist-packages (from autokeras) (0.22.2.post1)\n",
            "Requirement already satisfied: packaging in /usr/local/lib/python3.7/dist-packages (from autokeras) (21.0)\n",
            "Collecting keras-tuner>=1.0.2\n",
            "  Downloading keras_tuner-1.0.4-py3-none-any.whl (97 kB)\n",
            "\u001b[K     |████████████████████████████████| 97 kB 9.0 MB/s \n",
            "\u001b[?25hRequirement already satisfied: pandas in /usr/local/lib/python3.7/dist-packages (from autokeras) (1.1.5)\n",
            "Requirement already satisfied: tensorboard in /usr/local/lib/python3.7/dist-packages (from keras-tuner>=1.0.2->autokeras) (2.6.0)\n",
            "Collecting kt-legacy\n",
            "  Downloading kt_legacy-1.0.4-py3-none-any.whl (9.6 kB)\n",
            "Requirement already satisfied: scipy in /usr/local/lib/python3.7/dist-packages (from keras-tuner>=1.0.2->autokeras) (1.4.1)\n",
            "Requirement already satisfied: ipython in /usr/local/lib/python3.7/dist-packages (from keras-tuner>=1.0.2->autokeras) (5.5.0)\n",
            "Requirement already satisfied: requests in /usr/local/lib/python3.7/dist-packages (from keras-tuner>=1.0.2->autokeras) (2.23.0)\n",
            "Requirement already satisfied: numpy in /usr/local/lib/python3.7/dist-packages (from keras-tuner>=1.0.2->autokeras) (1.19.5)\n",
            "Requirement already satisfied: wheel~=0.35 in /usr/local/lib/python3.7/dist-packages (from tensorflow<=2.5.0,>=2.3.0->autokeras) (0.37.0)\n",
            "Requirement already satisfied: astunparse~=1.6.3 in /usr/local/lib/python3.7/dist-packages (from tensorflow<=2.5.0,>=2.3.0->autokeras) (1.6.3)\n",
            "Requirement already satisfied: six~=1.15.0 in /usr/local/lib/python3.7/dist-packages (from tensorflow<=2.5.0,>=2.3.0->autokeras) (1.15.0)\n",
            "Requirement already satisfied: gast==0.4.0 in /usr/local/lib/python3.7/dist-packages (from tensorflow<=2.5.0,>=2.3.0->autokeras) (0.4.0)\n",
            "Requirement already satisfied: termcolor~=1.1.0 in /usr/local/lib/python3.7/dist-packages (from tensorflow<=2.5.0,>=2.3.0->autokeras) (1.1.0)\n",
            "Collecting keras-nightly~=2.5.0.dev\n",
            "  Downloading keras_nightly-2.5.0.dev2021032900-py2.py3-none-any.whl (1.2 MB)\n",
            "\u001b[K     |████████████████████████████████| 1.2 MB 49.9 MB/s \n",
            "\u001b[?25hRequirement already satisfied: opt-einsum~=3.3.0 in /usr/local/lib/python3.7/dist-packages (from tensorflow<=2.5.0,>=2.3.0->autokeras) (3.3.0)\n",
            "Requirement already satisfied: keras-preprocessing~=1.1.2 in /usr/local/lib/python3.7/dist-packages (from tensorflow<=2.5.0,>=2.3.0->autokeras) (1.1.2)\n",
            "Collecting tensorflow-estimator<2.6.0,>=2.5.0rc0\n",
            "  Downloading tensorflow_estimator-2.5.0-py2.py3-none-any.whl (462 kB)\n",
            "\u001b[K     |████████████████████████████████| 462 kB 86.8 MB/s \n",
            "\u001b[?25hRequirement already satisfied: wrapt~=1.12.1 in /usr/local/lib/python3.7/dist-packages (from tensorflow<=2.5.0,>=2.3.0->autokeras) (1.12.1)\n",
            "Requirement already satisfied: typing-extensions~=3.7.4 in /usr/local/lib/python3.7/dist-packages (from tensorflow<=2.5.0,>=2.3.0->autokeras) (3.7.4.3)\n",
            "Requirement already satisfied: google-pasta~=0.2 in /usr/local/lib/python3.7/dist-packages (from tensorflow<=2.5.0,>=2.3.0->autokeras) (0.2.0)\n",
            "Requirement already satisfied: absl-py~=0.10 in /usr/local/lib/python3.7/dist-packages (from tensorflow<=2.5.0,>=2.3.0->autokeras) (0.12.0)\n",
            "Requirement already satisfied: h5py~=3.1.0 in /usr/local/lib/python3.7/dist-packages (from tensorflow<=2.5.0,>=2.3.0->autokeras) (3.1.0)\n",
            "Requirement already satisfied: protobuf>=3.9.2 in /usr/local/lib/python3.7/dist-packages (from tensorflow<=2.5.0,>=2.3.0->autokeras) (3.17.3)\n",
            "Collecting grpcio~=1.34.0\n",
            "  Downloading grpcio-1.34.1-cp37-cp37m-manylinux2014_x86_64.whl (4.0 MB)\n",
            "\u001b[K     |████████████████████████████████| 4.0 MB 61.4 MB/s \n",
            "\u001b[?25hRequirement already satisfied: flatbuffers~=1.12.0 in /usr/local/lib/python3.7/dist-packages (from tensorflow<=2.5.0,>=2.3.0->autokeras) (1.12)\n",
            "Requirement already satisfied: cached-property in /usr/local/lib/python3.7/dist-packages (from h5py~=3.1.0->tensorflow<=2.5.0,>=2.3.0->autokeras) (1.5.2)\n",
            "Requirement already satisfied: tensorboard-plugin-wit>=1.6.0 in /usr/local/lib/python3.7/dist-packages (from tensorboard->keras-tuner>=1.0.2->autokeras) (1.8.0)\n",
            "Requirement already satisfied: tensorboard-data-server<0.7.0,>=0.6.0 in /usr/local/lib/python3.7/dist-packages (from tensorboard->keras-tuner>=1.0.2->autokeras) (0.6.1)\n",
            "Requirement already satisfied: markdown>=2.6.8 in /usr/local/lib/python3.7/dist-packages (from tensorboard->keras-tuner>=1.0.2->autokeras) (3.3.4)\n",
            "Requirement already satisfied: google-auth-oauthlib<0.5,>=0.4.1 in /usr/local/lib/python3.7/dist-packages (from tensorboard->keras-tuner>=1.0.2->autokeras) (0.4.6)\n",
            "Requirement already satisfied: werkzeug>=0.11.15 in /usr/local/lib/python3.7/dist-packages (from tensorboard->keras-tuner>=1.0.2->autokeras) (1.0.1)\n",
            "Requirement already satisfied: setuptools>=41.0.0 in /usr/local/lib/python3.7/dist-packages (from tensorboard->keras-tuner>=1.0.2->autokeras) (57.4.0)\n",
            "Requirement already satisfied: google-auth<2,>=1.6.3 in /usr/local/lib/python3.7/dist-packages (from tensorboard->keras-tuner>=1.0.2->autokeras) (1.35.0)\n",
            "Requirement already satisfied: pyasn1-modules>=0.2.1 in /usr/local/lib/python3.7/dist-packages (from google-auth<2,>=1.6.3->tensorboard->keras-tuner>=1.0.2->autokeras) (0.2.8)\n",
            "Requirement already satisfied: cachetools<5.0,>=2.0.0 in /usr/local/lib/python3.7/dist-packages (from google-auth<2,>=1.6.3->tensorboard->keras-tuner>=1.0.2->autokeras) (4.2.2)\n",
            "Requirement already satisfied: rsa<5,>=3.1.4 in /usr/local/lib/python3.7/dist-packages (from google-auth<2,>=1.6.3->tensorboard->keras-tuner>=1.0.2->autokeras) (4.7.2)\n",
            "Requirement already satisfied: requests-oauthlib>=0.7.0 in /usr/local/lib/python3.7/dist-packages (from google-auth-oauthlib<0.5,>=0.4.1->tensorboard->keras-tuner>=1.0.2->autokeras) (1.3.0)\n",
            "Requirement already satisfied: importlib-metadata in /usr/local/lib/python3.7/dist-packages (from markdown>=2.6.8->tensorboard->keras-tuner>=1.0.2->autokeras) (4.8.1)\n",
            "Requirement already satisfied: pyasn1<0.5.0,>=0.4.6 in /usr/local/lib/python3.7/dist-packages (from pyasn1-modules>=0.2.1->google-auth<2,>=1.6.3->tensorboard->keras-tuner>=1.0.2->autokeras) (0.4.8)\n",
            "Requirement already satisfied: certifi>=2017.4.17 in /usr/local/lib/python3.7/dist-packages (from requests->keras-tuner>=1.0.2->autokeras) (2021.5.30)\n",
            "Requirement already satisfied: chardet<4,>=3.0.2 in /usr/local/lib/python3.7/dist-packages (from requests->keras-tuner>=1.0.2->autokeras) (3.0.4)\n",
            "Requirement already satisfied: idna<3,>=2.5 in /usr/local/lib/python3.7/dist-packages (from requests->keras-tuner>=1.0.2->autokeras) (2.10)\n",
            "Requirement already satisfied: urllib3!=1.25.0,!=1.25.1,<1.26,>=1.21.1 in /usr/local/lib/python3.7/dist-packages (from requests->keras-tuner>=1.0.2->autokeras) (1.24.3)\n",
            "Requirement already satisfied: oauthlib>=3.0.0 in /usr/local/lib/python3.7/dist-packages (from requests-oauthlib>=0.7.0->google-auth-oauthlib<0.5,>=0.4.1->tensorboard->keras-tuner>=1.0.2->autokeras) (3.1.1)\n",
            "Requirement already satisfied: zipp>=0.5 in /usr/local/lib/python3.7/dist-packages (from importlib-metadata->markdown>=2.6.8->tensorboard->keras-tuner>=1.0.2->autokeras) (3.5.0)\n",
            "Requirement already satisfied: traitlets>=4.2 in /usr/local/lib/python3.7/dist-packages (from ipython->keras-tuner>=1.0.2->autokeras) (5.1.0)\n",
            "Requirement already satisfied: pygments in /usr/local/lib/python3.7/dist-packages (from ipython->keras-tuner>=1.0.2->autokeras) (2.6.1)\n",
            "Requirement already satisfied: pickleshare in /usr/local/lib/python3.7/dist-packages (from ipython->keras-tuner>=1.0.2->autokeras) (0.7.5)\n",
            "Requirement already satisfied: pexpect in /usr/local/lib/python3.7/dist-packages (from ipython->keras-tuner>=1.0.2->autokeras) (4.8.0)\n",
            "Requirement already satisfied: decorator in /usr/local/lib/python3.7/dist-packages (from ipython->keras-tuner>=1.0.2->autokeras) (4.4.2)\n",
            "Requirement already satisfied: prompt-toolkit<2.0.0,>=1.0.4 in /usr/local/lib/python3.7/dist-packages (from ipython->keras-tuner>=1.0.2->autokeras) (1.0.18)\n",
            "Requirement already satisfied: simplegeneric>0.8 in /usr/local/lib/python3.7/dist-packages (from ipython->keras-tuner>=1.0.2->autokeras) (0.8.1)\n",
            "Requirement already satisfied: wcwidth in /usr/local/lib/python3.7/dist-packages (from prompt-toolkit<2.0.0,>=1.0.4->ipython->keras-tuner>=1.0.2->autokeras) (0.2.5)\n",
            "Requirement already satisfied: pyparsing>=2.0.2 in /usr/local/lib/python3.7/dist-packages (from packaging->autokeras) (2.4.7)\n",
            "Requirement already satisfied: python-dateutil>=2.7.3 in /usr/local/lib/python3.7/dist-packages (from pandas->autokeras) (2.8.2)\n",
            "Requirement already satisfied: pytz>=2017.2 in /usr/local/lib/python3.7/dist-packages (from pandas->autokeras) (2018.9)\n",
            "Requirement already satisfied: ptyprocess>=0.5 in /usr/local/lib/python3.7/dist-packages (from pexpect->ipython->keras-tuner>=1.0.2->autokeras) (0.7.0)\n",
            "Requirement already satisfied: joblib>=0.11 in /usr/local/lib/python3.7/dist-packages (from scikit-learn->autokeras) (1.0.1)\n",
            "Installing collected packages: grpcio, tensorflow-estimator, kt-legacy, keras-nightly, tensorflow, keras-tuner, autokeras\n",
            "  Attempting uninstall: grpcio\n",
            "    Found existing installation: grpcio 1.40.0\n",
            "    Uninstalling grpcio-1.40.0:\n",
            "      Successfully uninstalled grpcio-1.40.0\n",
            "  Attempting uninstall: tensorflow-estimator\n",
            "    Found existing installation: tensorflow-estimator 2.6.0\n",
            "    Uninstalling tensorflow-estimator-2.6.0:\n",
            "      Successfully uninstalled tensorflow-estimator-2.6.0\n",
            "  Attempting uninstall: tensorflow\n",
            "    Found existing installation: tensorflow 2.6.0\n",
            "    Uninstalling tensorflow-2.6.0:\n",
            "      Successfully uninstalled tensorflow-2.6.0\n",
            "  Attempting uninstall: keras-tuner\n",
            "    Found existing installation: keras-tuner 1.0.2rc1\n",
            "    Uninstalling keras-tuner-1.0.2rc1:\n",
            "      Successfully uninstalled keras-tuner-1.0.2rc1\n",
            "Successfully installed autokeras-1.0.16 grpcio-1.34.1 keras-nightly-2.5.0.dev2021032900 keras-tuner-1.0.4 kt-legacy-1.0.4 tensorflow-2.5.0 tensorflow-estimator-2.5.0\n"
          ]
        },
        {
          "output_type": "display_data",
          "data": {
            "application/vnd.colab-display-data+json": {
              "pip_warning": {
                "packages": [
                  "grpc"
                ]
              }
            }
          },
          "metadata": {}
        }
      ]
    },
    {
      "cell_type": "code",
      "metadata": {
        "colab": {
          "base_uri": "https://localhost:8080/"
        },
        "id": "MmmCScNGB_iI",
        "outputId": "815b9816-de8e-4fcc-953c-b35f3f6885fd"
      },
      "source": [
        "!pip show autokeras"
      ],
      "execution_count": null,
      "outputs": [
        {
          "output_type": "stream",
          "name": "stdout",
          "text": [
            "Name: autokeras\n",
            "Version: 1.0.16\n",
            "Summary: AutoML for deep learning\n",
            "Home-page: http://autokeras.com\n",
            "Author: Data Analytics at Texas A&M (DATA) Lab, Keras Team\n",
            "Author-email: jhfjhfj1@gmail.com\n",
            "License: MIT\n",
            "Location: /usr/local/lib/python3.7/dist-packages\n",
            "Requires: tensorflow, packaging, scikit-learn, pandas, keras-tuner\n",
            "Required-by: \n"
          ]
        }
      ]
    },
    {
      "cell_type": "markdown",
      "metadata": {
        "id": "xD1h_4nXqn-i"
      },
      "source": [
        "https://raw.githubusercontent.com/jbrownlee/Datasets/master/sonar.names"
      ]
    },
    {
      "cell_type": "markdown",
      "metadata": {
        "id": "nH92GEMKqp1u"
      },
      "source": [
        "https://raw.githubusercontent.com/jbrownlee/Datasets/master/sonar.csv"
      ]
    },
    {
      "cell_type": "code",
      "metadata": {
        "colab": {
          "base_uri": "https://localhost:8080/"
        },
        "id": "Lg1l8unBCC1J",
        "outputId": "acd0a721-6a0e-43f1-db26-3632140bdcfd"
      },
      "source": [
        "# load the sonar dataset\n",
        "from pandas import read_csv\n",
        "from sklearn.model_selection import train_test_split\n",
        "from sklearn.preprocessing import LabelEncoder\n",
        "# load dataset\n",
        "url = 'https://raw.githubusercontent.com/jbrownlee/Datasets/master/sonar.csv'\n",
        "dataframe = read_csv(url, header=None)\n",
        "print(dataframe.shape)\n",
        "# split into input and output elements\n",
        "data = dataframe.values\n",
        "X, y = data[:, :-1], data[:, -1]\n",
        "print(X.shape, y.shape)\n",
        "# basic data preparation\n",
        "X = X.astype('float32')\n",
        "y = LabelEncoder().fit_transform(y)\n",
        "# separate into train and test sets\n",
        "X_train, X_test, y_train, y_test = train_test_split(X, y, test_size=0.33, random_state=1)\n",
        "print(X_train.shape, X_test.shape, y_train.shape, y_test.shape)"
      ],
      "execution_count": null,
      "outputs": [
        {
          "output_type": "stream",
          "name": "stdout",
          "text": [
            "(208, 61)\n",
            "(208, 60) (208,)\n",
            "(139, 60) (69, 60) (139,) (69,)\n"
          ]
        }
      ]
    },
    {
      "cell_type": "code",
      "metadata": {
        "colab": {
          "base_uri": "https://localhost:8080/"
        },
        "id": "-kfL5ki32JmG",
        "outputId": "f2c3fb0e-95b7-4e33-afc2-c6748267615a"
      },
      "source": [
        "X_train[0]"
      ],
      "execution_count": null,
      "outputs": [
        {
          "output_type": "execute_result",
          "data": {
            "text/plain": [
              "array([5.990e-02, 4.740e-02, 4.980e-02, 3.870e-02, 1.026e-01, 7.730e-02,\n",
              "       8.530e-02, 4.470e-02, 1.094e-01, 3.510e-02, 1.582e-01, 2.023e-01,\n",
              "       2.268e-01, 2.829e-01, 3.819e-01, 4.665e-01, 6.687e-01, 8.647e-01,\n",
              "       9.361e-01, 9.367e-01, 9.144e-01, 9.162e-01, 9.311e-01, 8.604e-01,\n",
              "       7.327e-01, 5.763e-01, 4.162e-01, 4.113e-01, 4.146e-01, 3.149e-01,\n",
              "       2.936e-01, 3.169e-01, 3.149e-01, 4.132e-01, 3.994e-01, 4.195e-01,\n",
              "       4.532e-01, 4.419e-01, 4.737e-01, 3.431e-01, 3.194e-01, 3.370e-01,\n",
              "       2.493e-01, 2.650e-01, 1.748e-01, 9.320e-02, 5.300e-02, 8.100e-03,\n",
              "       3.420e-02, 1.370e-02, 2.800e-03, 1.300e-03, 5.000e-04, 2.270e-02,\n",
              "       2.090e-02, 8.100e-03, 1.170e-02, 1.140e-02, 1.120e-02, 1.000e-02],\n",
              "      dtype=float32)"
            ]
          },
          "metadata": {},
          "execution_count": 4
        }
      ]
    },
    {
      "cell_type": "markdown",
      "metadata": {
        "id": "cTUK4U4T2uFV"
      },
      "source": [
        "##Classification"
      ]
    },
    {
      "cell_type": "code",
      "metadata": {
        "colab": {
          "base_uri": "https://localhost:8080/"
        },
        "id": "s393GKfDCXQv",
        "outputId": "a489b3cc-c100-4cdc-d118-4a8e5ddb447b"
      },
      "source": [
        "# use autokeras to find a model for the sonar dataset\n",
        "from numpy import asarray\n",
        "from pandas import read_csv\n",
        "from sklearn.model_selection import train_test_split\n",
        "from sklearn.preprocessing import LabelEncoder\n",
        "from autokeras import StructuredDataClassifier\n",
        "# load dataset\n",
        "url = 'https://raw.githubusercontent.com/jbrownlee/Datasets/master/sonar.csv'\n",
        "dataframe = read_csv(url, header=None)\n",
        "print(dataframe.shape)\n",
        "# split into input and output elements\n",
        "data = dataframe.values\n",
        "X, y = data[:, :-1], data[:, -1]\n",
        "print(X.shape, y.shape)\n",
        "# basic data preparation\n",
        "X = X.astype('float32')\n",
        "y = LabelEncoder().fit_transform(y)\n",
        "# separate into train and test sets\n",
        "X_train, X_test, y_train, y_test = train_test_split(X, y, test_size=0.33, random_state=1)\n",
        "print(X_train.shape, X_test.shape, y_train.shape, y_test.shape)\n",
        "# define the search\n",
        "search = StructuredDataClassifier(max_trials=15)\n",
        "# perform the search\n",
        "search.fit(x=X_train, y=y_train, verbose=0)\n",
        "# evaluate the model\n",
        "loss, acc = search.evaluate(X_test, y_test, verbose=0)\n",
        "print('Accuracy: %.3f' % acc)\n",
        "# use the model to make a prediction\n",
        "row = [0.0200,0.0371,0.0428,0.0207,0.0954,0.0986,0.1539,0.1601,0.3109,0.2111,0.1609,0.1582,0.2238,0.0645,0.0660,0.2273,0.3100,0.2999,0.5078,0.4797,0.5783,0.5071,0.4328,0.5550,0.6711,0.6415,0.7104,0.8080,0.6791,0.3857,0.1307,0.2604,0.5121,0.7547,0.8537,0.8507,0.6692,0.6097,0.4943,0.2744,0.0510,0.2834,0.2825,0.4256,0.2641,0.1386,0.1051,0.1343,0.0383,0.0324,0.0232,0.0027,0.0065,0.0159,0.0072,0.0167,0.0180,0.0084,0.0090,0.0032]\n",
        "X_new = asarray([row]).astype('float32')\n",
        "yhat = search.predict(X_new)\n",
        "print('Predicted: %.3f' % yhat[0])\n",
        "# get the best performing model\n",
        "model = search.export_model()\n",
        "# summarize the loaded model\n",
        "model.summary()\n",
        "# save the best performing model to file\n",
        "model.save('model_sonar.h5')"
      ],
      "execution_count": null,
      "outputs": [
        {
          "output_type": "stream",
          "name": "stdout",
          "text": [
            "(208, 61)\n",
            "(208, 60) (208,)\n",
            "(139, 60) (69, 60) (139,) (69,)\n",
            "INFO:tensorflow:Oracle triggered exit\n",
            "Epoch 1/18\n",
            "5/5 [==============================] - 1s 4ms/step - loss: 0.7016 - accuracy: 0.4820\n",
            "Epoch 2/18\n",
            "5/5 [==============================] - 0s 3ms/step - loss: 0.6298 - accuracy: 0.6259\n",
            "Epoch 3/18\n",
            "5/5 [==============================] - 0s 3ms/step - loss: 0.5754 - accuracy: 0.7194\n",
            "Epoch 4/18\n",
            "5/5 [==============================] - 0s 3ms/step - loss: 0.5304 - accuracy: 0.7698\n",
            "Epoch 5/18\n",
            "5/5 [==============================] - 0s 3ms/step - loss: 0.4902 - accuracy: 0.7698\n",
            "Epoch 6/18\n",
            "5/5 [==============================] - 0s 5ms/step - loss: 0.4548 - accuracy: 0.7842\n",
            "Epoch 7/18\n",
            "5/5 [==============================] - 0s 4ms/step - loss: 0.4228 - accuracy: 0.7986\n",
            "Epoch 8/18\n",
            "5/5 [==============================] - 0s 4ms/step - loss: 0.3939 - accuracy: 0.8129\n",
            "Epoch 9/18\n",
            "5/5 [==============================] - 0s 4ms/step - loss: 0.3681 - accuracy: 0.8345\n",
            "Epoch 10/18\n",
            "5/5 [==============================] - 0s 4ms/step - loss: 0.3446 - accuracy: 0.8417\n",
            "Epoch 11/18\n",
            "5/5 [==============================] - 0s 3ms/step - loss: 0.3232 - accuracy: 0.8633\n",
            "Epoch 12/18\n",
            "5/5 [==============================] - 0s 4ms/step - loss: 0.3037 - accuracy: 0.8705\n",
            "Epoch 13/18\n",
            "5/5 [==============================] - 0s 4ms/step - loss: 0.2858 - accuracy: 0.8777\n",
            "Epoch 14/18\n",
            "5/5 [==============================] - 0s 4ms/step - loss: 0.2693 - accuracy: 0.8777\n",
            "Epoch 15/18\n",
            "5/5 [==============================] - 0s 3ms/step - loss: 0.2538 - accuracy: 0.9209\n",
            "Epoch 16/18\n",
            "5/5 [==============================] - 0s 4ms/step - loss: 0.2393 - accuracy: 0.9209\n",
            "Epoch 17/18\n",
            "5/5 [==============================] - 0s 4ms/step - loss: 0.2255 - accuracy: 0.9353\n",
            "Epoch 18/18\n",
            "5/5 [==============================] - 0s 3ms/step - loss: 0.2124 - accuracy: 0.9424\n",
            "INFO:tensorflow:Assets written to: ./structured_data_classifier/best_model/assets\n",
            "Accuracy: 0.768\n",
            "1/1 [==============================] - 0s 12ms/step\n",
            "Predicted: 1.000\n",
            "Model: \"model\"\n",
            "_________________________________________________________________\n",
            "Layer (type)                 Output Shape              Param #   \n",
            "=================================================================\n",
            "input_1 (InputLayer)         [(None, 60)]              0         \n",
            "_________________________________________________________________\n",
            "multi_category_encoding (Mul (None, 60)                0         \n",
            "_________________________________________________________________\n",
            "normalization (Normalization (None, 60)                121       \n",
            "_________________________________________________________________\n",
            "dense (Dense)                (None, 32)                1952      \n",
            "_________________________________________________________________\n",
            "re_lu (ReLU)                 (None, 32)                0         \n",
            "_________________________________________________________________\n",
            "dense_1 (Dense)              (None, 32)                1056      \n",
            "_________________________________________________________________\n",
            "re_lu_1 (ReLU)               (None, 32)                0         \n",
            "_________________________________________________________________\n",
            "dense_2 (Dense)              (None, 1)                 33        \n",
            "_________________________________________________________________\n",
            "classification_head_1 (Activ (None, 1)                 0         \n",
            "=================================================================\n",
            "Total params: 3,162\n",
            "Trainable params: 3,041\n",
            "Non-trainable params: 121\n",
            "_________________________________________________________________\n"
          ]
        }
      ]
    },
    {
      "cell_type": "code",
      "metadata": {
        "id": "A0LI-viRCgf0"
      },
      "source": [
        "# https://machinelearningmastery.com/autokeras-for-classification-and-regression/"
      ],
      "execution_count": null,
      "outputs": []
    },
    {
      "cell_type": "markdown",
      "metadata": {
        "id": "j465YAQt2wGl"
      },
      "source": [
        "##Regression"
      ]
    },
    {
      "cell_type": "code",
      "metadata": {
        "colab": {
          "base_uri": "https://localhost:8080/"
        },
        "id": "XugcDs0I2xaB",
        "outputId": "a6b00941-c733-4a31-c843-a812a0440cd5"
      },
      "source": [
        "# use autokeras to find a model for the insurance dataset\n",
        "from numpy import asarray\n",
        "from pandas import read_csv\n",
        "from sklearn.model_selection import train_test_split\n",
        "from autokeras import StructuredDataRegressor\n",
        "# load dataset\n",
        "url = 'https://raw.githubusercontent.com/jbrownlee/Datasets/master/auto-insurance.csv'\n",
        "dataframe = read_csv(url, header=None)\n",
        "print(dataframe.shape)\n",
        "# split into input and output elements\n",
        "data = dataframe.values\n",
        "data = data.astype('float32')\n",
        "X, y = data[:, :-1], data[:, -1]\n",
        "print(X.shape, y.shape)\n",
        "# separate into train and test sets\n",
        "X_train, X_test, y_train, y_test = train_test_split(X, y, test_size=0.33, random_state=1)\n",
        "print(X_train.shape, X_test.shape, y_train.shape, y_test.shape)\n",
        "# define the search\n",
        "search = StructuredDataRegressor(max_trials=15, loss='mean_absolute_error')\n",
        "# perform the search\n",
        "search.fit(x=X_train, y=y_train, verbose=0)\n",
        "# evaluate the model\n",
        "mae, _ = search.evaluate(X_test, y_test, verbose=0)\n",
        "print('MAE: %.3f' % mae)\n",
        "# use the model to make a prediction\n",
        "X_new = asarray([[108]]).astype('float32')\n",
        "yhat = search.predict(X_new)\n",
        "print('Predicted: %.3f' % yhat[0])\n",
        "# get the best performing model\n",
        "model = search.export_model()\n",
        "# summarize the loaded model\n",
        "model.summary()\n",
        "# save the best performing model to file\n",
        "model.save('model_insurance.h5')"
      ],
      "execution_count": null,
      "outputs": [
        {
          "output_type": "stream",
          "name": "stdout",
          "text": [
            "(63, 2)\n",
            "(63, 1) (63,)\n",
            "(42, 1) (21, 1) (42,) (21,)\n",
            "WARNING:tensorflow:5 out of the last 5 calls to <function PreprocessingLayer.make_adapt_function.<locals>.adapt_step at 0x7f39fc400e60> triggered tf.function retracing. Tracing is expensive and the excessive number of tracings could be due to (1) creating @tf.function repeatedly in a loop, (2) passing tensors with different shapes, (3) passing Python objects instead of tensors. For (1), please define your @tf.function outside of the loop. For (2), @tf.function has experimental_relax_shapes=True option that relaxes argument shapes that can avoid unnecessary retracing. For (3), please refer to https://www.tensorflow.org/guide/function#controlling_retracing and https://www.tensorflow.org/api_docs/python/tf/function for  more details.\n",
            "WARNING:tensorflow:6 out of the last 6 calls to <function PreprocessingLayer.make_adapt_function.<locals>.adapt_step at 0x7f39fc1fb4d0> triggered tf.function retracing. Tracing is expensive and the excessive number of tracings could be due to (1) creating @tf.function repeatedly in a loop, (2) passing tensors with different shapes, (3) passing Python objects instead of tensors. For (1), please define your @tf.function outside of the loop. For (2), @tf.function has experimental_relax_shapes=True option that relaxes argument shapes that can avoid unnecessary retracing. For (3), please refer to https://www.tensorflow.org/guide/function#controlling_retracing and https://www.tensorflow.org/api_docs/python/tf/function for  more details.\n",
            "INFO:tensorflow:Oracle triggered exit\n",
            "Epoch 1/105\n",
            "2/2 [==============================] - 0s 6ms/step - loss: 88.0027 - mean_squared_error: 13756.7949\n",
            "Epoch 2/105\n",
            "2/2 [==============================] - 0s 5ms/step - loss: 85.8088 - mean_squared_error: 13099.0938\n",
            "Epoch 3/105\n",
            "2/2 [==============================] - 0s 4ms/step - loss: 83.7289 - mean_squared_error: 12484.7793\n",
            "Epoch 4/105\n",
            "2/2 [==============================] - 0s 5ms/step - loss: 81.6454 - mean_squared_error: 11885.5342\n",
            "Epoch 5/105\n",
            "2/2 [==============================] - 0s 5ms/step - loss: 79.5410 - mean_squared_error: 11297.0391\n",
            "Epoch 6/105\n",
            "2/2 [==============================] - 0s 3ms/step - loss: 77.4203 - mean_squared_error: 10721.5039\n",
            "Epoch 7/105\n",
            "2/2 [==============================] - 0s 5ms/step - loss: 75.2900 - mean_squared_error: 10161.4668\n",
            "Epoch 8/105\n",
            "2/2 [==============================] - 0s 5ms/step - loss: 73.1471 - mean_squared_error: 9615.4033\n",
            "Epoch 9/105\n",
            "2/2 [==============================] - 0s 6ms/step - loss: 70.9454 - mean_squared_error: 9072.1924\n",
            "Epoch 10/105\n",
            "2/2 [==============================] - 0s 3ms/step - loss: 68.6449 - mean_squared_error: 8524.4512\n",
            "Epoch 11/105\n",
            "2/2 [==============================] - 0s 6ms/step - loss: 66.2374 - mean_squared_error: 7973.6934\n",
            "Epoch 12/105\n",
            "2/2 [==============================] - 0s 6ms/step - loss: 63.7073 - mean_squared_error: 7419.4775\n",
            "Epoch 13/105\n",
            "2/2 [==============================] - 0s 6ms/step - loss: 61.0292 - mean_squared_error: 6860.0298\n",
            "Epoch 14/105\n",
            "2/2 [==============================] - 0s 4ms/step - loss: 58.2050 - mean_squared_error: 6296.4585\n",
            "Epoch 15/105\n",
            "2/2 [==============================] - 0s 5ms/step - loss: 55.2146 - mean_squared_error: 5734.4575\n",
            "Epoch 16/105\n",
            "2/2 [==============================] - 0s 6ms/step - loss: 52.1376 - mean_squared_error: 5179.4526\n",
            "Epoch 17/105\n",
            "2/2 [==============================] - 0s 5ms/step - loss: 49.3431 - mean_squared_error: 4638.2061\n",
            "Epoch 18/105\n",
            "2/2 [==============================] - 0s 5ms/step - loss: 46.5540 - mean_squared_error: 4119.3022\n",
            "Epoch 19/105\n",
            "2/2 [==============================] - 0s 4ms/step - loss: 43.6715 - mean_squared_error: 3629.3870\n",
            "Epoch 20/105\n",
            "2/2 [==============================] - 0s 5ms/step - loss: 40.9631 - mean_squared_error: 3175.0327\n",
            "Epoch 21/105\n",
            "2/2 [==============================] - 0s 6ms/step - loss: 38.5059 - mean_squared_error: 2766.1919\n",
            "Epoch 22/105\n",
            "2/2 [==============================] - 0s 5ms/step - loss: 36.1644 - mean_squared_error: 2406.8618\n",
            "Epoch 23/105\n",
            "2/2 [==============================] - 0s 6ms/step - loss: 34.6264 - mean_squared_error: 2105.3521\n",
            "Epoch 24/105\n",
            "2/2 [==============================] - 0s 6ms/step - loss: 33.2827 - mean_squared_error: 1874.1462\n",
            "Epoch 25/105\n",
            "2/2 [==============================] - 0s 4ms/step - loss: 32.1012 - mean_squared_error: 1710.9968\n",
            "Epoch 26/105\n",
            "2/2 [==============================] - 0s 5ms/step - loss: 31.9063 - mean_squared_error: 1613.1700\n",
            "Epoch 27/105\n",
            "2/2 [==============================] - 0s 7ms/step - loss: 31.9251 - mean_squared_error: 1577.5156\n",
            "Epoch 28/105\n",
            "2/2 [==============================] - 0s 6ms/step - loss: 32.0128 - mean_squared_error: 1584.5944\n",
            "Epoch 29/105\n",
            "2/2 [==============================] - 0s 6ms/step - loss: 32.2504 - mean_squared_error: 1611.5967\n",
            "Epoch 30/105\n",
            "2/2 [==============================] - 0s 5ms/step - loss: 32.4130 - mean_squared_error: 1641.3452\n",
            "Epoch 31/105\n",
            "2/2 [==============================] - 0s 3ms/step - loss: 32.5116 - mean_squared_error: 1663.9651\n",
            "Epoch 32/105\n",
            "2/2 [==============================] - 0s 2ms/step - loss: 32.5546 - mean_squared_error: 1675.1715\n",
            "Epoch 33/105\n",
            "2/2 [==============================] - 0s 3ms/step - loss: 32.5501 - mean_squared_error: 1674.4124\n",
            "Epoch 34/105\n",
            "2/2 [==============================] - 0s 3ms/step - loss: 32.5065 - mean_squared_error: 1663.6721\n",
            "Epoch 35/105\n",
            "2/2 [==============================] - 0s 5ms/step - loss: 32.4321 - mean_squared_error: 1646.0599\n",
            "Epoch 36/105\n",
            "2/2 [==============================] - 0s 6ms/step - loss: 32.3305 - mean_squared_error: 1624.7220\n",
            "Epoch 37/105\n",
            "2/2 [==============================] - 0s 5ms/step - loss: 32.2082 - mean_squared_error: 1603.0237\n",
            "Epoch 38/105\n",
            "2/2 [==============================] - 0s 3ms/step - loss: 32.0698 - mean_squared_error: 1583.8717\n",
            "Epoch 39/105\n",
            "2/2 [==============================] - 0s 3ms/step - loss: 31.9796 - mean_squared_error: 1569.5699\n",
            "Epoch 40/105\n",
            "2/2 [==============================] - 0s 4ms/step - loss: 31.9500 - mean_squared_error: 1563.4202\n",
            "Epoch 41/105\n",
            "2/2 [==============================] - 0s 4ms/step - loss: 31.9238 - mean_squared_error: 1562.2131\n",
            "Epoch 42/105\n",
            "2/2 [==============================] - 0s 6ms/step - loss: 31.9026 - mean_squared_error: 1564.2314\n",
            "Epoch 43/105\n",
            "2/2 [==============================] - 0s 4ms/step - loss: 31.8827 - mean_squared_error: 1568.2631\n",
            "Epoch 44/105\n",
            "2/2 [==============================] - 0s 6ms/step - loss: 31.8637 - mean_squared_error: 1573.3650\n",
            "Epoch 45/105\n",
            "2/2 [==============================] - 0s 5ms/step - loss: 31.8470 - mean_squared_error: 1579.1949\n",
            "Epoch 46/105\n",
            "2/2 [==============================] - 0s 5ms/step - loss: 31.8359 - mean_squared_error: 1585.4354\n",
            "Epoch 47/105\n",
            "2/2 [==============================] - 0s 4ms/step - loss: 31.8241 - mean_squared_error: 1591.4838\n",
            "Epoch 48/105\n",
            "2/2 [==============================] - 0s 6ms/step - loss: 31.8130 - mean_squared_error: 1597.4186\n",
            "Epoch 49/105\n",
            "2/2 [==============================] - 0s 5ms/step - loss: 31.8026 - mean_squared_error: 1603.1810\n",
            "Epoch 50/105\n",
            "2/2 [==============================] - 0s 7ms/step - loss: 31.7926 - mean_squared_error: 1608.7584\n",
            "Epoch 51/105\n",
            "2/2 [==============================] - 0s 6ms/step - loss: 31.7842 - mean_squared_error: 1613.9680\n",
            "Epoch 52/105\n",
            "2/2 [==============================] - 0s 7ms/step - loss: 31.7782 - mean_squared_error: 1618.2764\n",
            "Epoch 53/105\n",
            "2/2 [==============================] - 0s 6ms/step - loss: 31.7718 - mean_squared_error: 1621.7380\n",
            "Epoch 54/105\n",
            "2/2 [==============================] - 0s 5ms/step - loss: 31.7651 - mean_squared_error: 1624.4576\n",
            "Epoch 55/105\n",
            "2/2 [==============================] - 0s 6ms/step - loss: 31.7581 - mean_squared_error: 1626.5334\n",
            "Epoch 56/105\n",
            "2/2 [==============================] - 0s 5ms/step - loss: 31.7505 - mean_squared_error: 1628.0271\n",
            "Epoch 57/105\n",
            "2/2 [==============================] - 0s 7ms/step - loss: 31.7428 - mean_squared_error: 1629.0675\n",
            "Epoch 58/105\n",
            "2/2 [==============================] - 0s 4ms/step - loss: 31.7352 - mean_squared_error: 1629.7316\n",
            "Epoch 59/105\n",
            "2/2 [==============================] - 0s 7ms/step - loss: 31.7276 - mean_squared_error: 1630.0784\n",
            "Epoch 60/105\n",
            "2/2 [==============================] - 0s 5ms/step - loss: 31.7198 - mean_squared_error: 1630.1482\n",
            "Epoch 61/105\n",
            "2/2 [==============================] - 0s 6ms/step - loss: 31.7120 - mean_squared_error: 1629.9972\n",
            "Epoch 62/105\n",
            "2/2 [==============================] - 0s 5ms/step - loss: 31.7044 - mean_squared_error: 1629.6737\n",
            "Epoch 63/105\n",
            "2/2 [==============================] - 0s 5ms/step - loss: 31.6966 - mean_squared_error: 1629.1890\n",
            "Epoch 64/105\n",
            "2/2 [==============================] - 0s 6ms/step - loss: 31.6887 - mean_squared_error: 1628.5717\n",
            "Epoch 65/105\n",
            "2/2 [==============================] - 0s 6ms/step - loss: 31.6812 - mean_squared_error: 1628.1279\n",
            "Epoch 66/105\n",
            "2/2 [==============================] - 0s 3ms/step - loss: 31.6742 - mean_squared_error: 1628.6488\n",
            "Epoch 67/105\n",
            "2/2 [==============================] - 0s 7ms/step - loss: 31.6668 - mean_squared_error: 1629.9827\n",
            "Epoch 68/105\n",
            "2/2 [==============================] - 0s 7ms/step - loss: 31.6763 - mean_squared_error: 1632.0345\n",
            "Epoch 69/105\n",
            "2/2 [==============================] - 0s 6ms/step - loss: 31.6632 - mean_squared_error: 1612.2185\n",
            "Epoch 70/105\n",
            "2/2 [==============================] - 0s 6ms/step - loss: 31.6787 - mean_squared_error: 1592.9939\n",
            "Epoch 71/105\n",
            "2/2 [==============================] - 0s 7ms/step - loss: 31.6904 - mean_squared_error: 1580.1451\n",
            "Epoch 72/105\n",
            "2/2 [==============================] - 0s 6ms/step - loss: 31.6987 - mean_squared_error: 1571.5361\n",
            "Epoch 73/105\n",
            "2/2 [==============================] - 0s 4ms/step - loss: 31.7025 - mean_squared_error: 1565.8335\n",
            "Epoch 74/105\n",
            "2/2 [==============================] - 0s 5ms/step - loss: 31.7079 - mean_squared_error: 1562.4427\n",
            "Epoch 75/105\n",
            "2/2 [==============================] - 0s 4ms/step - loss: 31.7103 - mean_squared_error: 1559.9539\n",
            "Epoch 76/105\n",
            "2/2 [==============================] - 0s 4ms/step - loss: 31.7059 - mean_squared_error: 1557.5045\n",
            "Epoch 77/105\n",
            "2/2 [==============================] - 0s 6ms/step - loss: 31.7006 - mean_squared_error: 1555.6853\n",
            "Epoch 78/105\n",
            "2/2 [==============================] - 0s 4ms/step - loss: 31.6953 - mean_squared_error: 1554.6008\n",
            "Epoch 79/105\n",
            "2/2 [==============================] - 0s 4ms/step - loss: 31.6898 - mean_squared_error: 1554.1952\n",
            "Epoch 80/105\n",
            "2/2 [==============================] - 0s 5ms/step - loss: 31.6844 - mean_squared_error: 1554.3345\n",
            "Epoch 81/105\n",
            "2/2 [==============================] - 0s 4ms/step - loss: 31.6787 - mean_squared_error: 1554.7676\n",
            "Epoch 82/105\n",
            "2/2 [==============================] - 0s 5ms/step - loss: 31.6724 - mean_squared_error: 1555.3586\n",
            "Epoch 83/105\n",
            "2/2 [==============================] - 0s 3ms/step - loss: 31.6644 - mean_squared_error: 1555.9541\n",
            "Epoch 84/105\n",
            "2/2 [==============================] - 0s 5ms/step - loss: 31.6561 - mean_squared_error: 1556.7186\n",
            "Epoch 85/105\n",
            "2/2 [==============================] - 0s 6ms/step - loss: 31.6470 - mean_squared_error: 1557.5983\n",
            "Epoch 86/105\n",
            "2/2 [==============================] - 0s 6ms/step - loss: 31.6382 - mean_squared_error: 1558.7649\n",
            "Epoch 87/105\n",
            "2/2 [==============================] - 0s 6ms/step - loss: 31.6292 - mean_squared_error: 1560.2079\n",
            "Epoch 88/105\n",
            "2/2 [==============================] - 0s 5ms/step - loss: 31.6203 - mean_squared_error: 1561.9260\n",
            "Epoch 89/105\n",
            "2/2 [==============================] - 0s 5ms/step - loss: 31.6116 - mean_squared_error: 1563.8497\n",
            "Epoch 90/105\n",
            "2/2 [==============================] - 0s 6ms/step - loss: 31.6023 - mean_squared_error: 1565.8717\n",
            "Epoch 91/105\n",
            "2/2 [==============================] - 0s 5ms/step - loss: 31.5928 - mean_squared_error: 1568.0779\n",
            "Epoch 92/105\n",
            "2/2 [==============================] - 0s 6ms/step - loss: 31.5834 - mean_squared_error: 1570.4751\n",
            "Epoch 93/105\n",
            "2/2 [==============================] - 0s 7ms/step - loss: 31.5739 - mean_squared_error: 1573.0586\n",
            "Epoch 94/105\n",
            "2/2 [==============================] - 0s 6ms/step - loss: 31.5642 - mean_squared_error: 1575.7599\n",
            "Epoch 95/105\n",
            "2/2 [==============================] - 0s 5ms/step - loss: 31.5542 - mean_squared_error: 1578.5848\n",
            "Epoch 96/105\n",
            "2/2 [==============================] - 0s 4ms/step - loss: 31.5444 - mean_squared_error: 1581.6183\n",
            "Epoch 97/105\n",
            "2/2 [==============================] - 0s 4ms/step - loss: 31.5341 - mean_squared_error: 1584.7756\n",
            "Epoch 98/105\n",
            "2/2 [==============================] - 0s 6ms/step - loss: 31.5239 - mean_squared_error: 1588.1661\n",
            "Epoch 99/105\n",
            "2/2 [==============================] - 0s 8ms/step - loss: 31.5164 - mean_squared_error: 1591.7288\n",
            "Epoch 100/105\n",
            "2/2 [==============================] - 0s 7ms/step - loss: 31.5051 - mean_squared_error: 1594.5270\n",
            "Epoch 101/105\n",
            "2/2 [==============================] - 0s 3ms/step - loss: 31.4927 - mean_squared_error: 1597.0927\n",
            "Epoch 102/105\n",
            "2/2 [==============================] - 0s 5ms/step - loss: 31.4833 - mean_squared_error: 1600.4099\n",
            "Epoch 103/105\n",
            "2/2 [==============================] - 0s 6ms/step - loss: 31.4745 - mean_squared_error: 1603.5508\n",
            "Epoch 104/105\n",
            "2/2 [==============================] - 0s 5ms/step - loss: 31.4902 - mean_squared_error: 1606.6168\n",
            "Epoch 105/105\n",
            "2/2 [==============================] - 0s 4ms/step - loss: 31.4695 - mean_squared_error: 1585.5370\n",
            "INFO:tensorflow:Assets written to: ./structured_data_regressor/best_model/assets\n",
            "MAE: 25.757\n",
            "1/1 [==============================] - 0s 10ms/step\n",
            "Predicted: 401.447\n",
            "Model: \"model\"\n",
            "_________________________________________________________________\n",
            "Layer (type)                 Output Shape              Param #   \n",
            "=================================================================\n",
            "input_1 (InputLayer)         [(None, 1)]               0         \n",
            "_________________________________________________________________\n",
            "multi_category_encoding (Mul (None, 1)                 0         \n",
            "_________________________________________________________________\n",
            "dense (Dense)                (None, 32)                64        \n",
            "_________________________________________________________________\n",
            "re_lu (ReLU)                 (None, 32)                0         \n",
            "_________________________________________________________________\n",
            "dense_1 (Dense)              (None, 512)               16896     \n",
            "_________________________________________________________________\n",
            "re_lu_1 (ReLU)               (None, 512)               0         \n",
            "_________________________________________________________________\n",
            "regression_head_1 (Dense)    (None, 1)                 513       \n",
            "=================================================================\n",
            "Total params: 17,473\n",
            "Trainable params: 17,473\n",
            "Non-trainable params: 0\n",
            "_________________________________________________________________\n"
          ]
        }
      ]
    },
    {
      "cell_type": "code",
      "metadata": {
        "id": "b37H-PoY239L"
      },
      "source": [
        ""
      ],
      "execution_count": null,
      "outputs": []
    }
  ]
}